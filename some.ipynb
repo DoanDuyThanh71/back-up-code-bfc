{
 "cells": [
  {
   "cell_type": "code",
   "execution_count": 6,
   "metadata": {},
   "outputs": [],
   "source": [
    "import pandas as pd \n",
    "df1 = pd.read_excel(\"../Data/Fix to TP/Fix cho chi loan/dim/dim Breatag Form Thanh Final 09112024.xlsx\")\n",
    "df2 = pd.read_excel(\"../Data/Fix to TP/Fix cho chi loan/dataout/data for train code fill phugiasanpham breantag.xlsx\")"
   ]
  },
  {
   "cell_type": "code",
   "execution_count": 7,
   "metadata": {},
   "outputs": [
    {
     "name": "stdout",
     "output_type": "stream",
     "text": [
      "Index(['Ngành hàng', 'Phân loại thành phần', 'Phụ gia sử dụng', 'Tên sản phẩm',\n",
      "       'Trim lần 1', 'Trim lần 2', 'Sản Phẩm Final'],\n",
      "      dtype='object')\n",
      "Index(['Day', 'Month', 'Year', 'Mã tờ khai', 'Công ty nhập',\n",
      "       'Công ty nhập gộp', 'Công ty nhập (TA)', 'Địa chỉ', 'Mã số thuế',\n",
      "       'Nhà cung cấp', 'Địa chỉ (ncc)', 'Quốc gia xuất xứ', 'HScode',\n",
      "       'Mô tả sản phẩm', 'Thương hiệu', 'Hợp lệ', 'updated Số lượng',\n",
      "       'updated Đơn vị', 'Số lượng', 'Đơn vị', 'Khối lượng', 'Thành tiền',\n",
      "       'Tiền tệ', 'Updated Đơn giá', 'Đơn giá', 'Tỷ giá',\n",
      "       'Điều kiện giao hàng', 'Cảng xuất', 'Cảng nhập', 'Phân loại thị trường',\n",
      "       'Phân loại công ty nhập', 'is duplicate', 'Phụ gia sử dụng',\n",
      "       'Phân loại ngành hàng', 'Hỗn hợp', 'Nothing'],\n",
      "      dtype='object')\n"
     ]
    }
   ],
   "source": [
    "print(df1.columns)\n",
    "print(df2.columns)"
   ]
  },
  {
   "cell_type": "code",
   "execution_count": null,
   "metadata": {},
   "outputs": [
    {
     "name": "stdout",
     "output_type": "stream",
     "text": [
      "                                      Mô tả sản phẩm   code classification 2\n",
      "0  carbon black used in paint and printing ink el...                    None\n",
      "1  enzymes used in the production of carnival evi...                    None\n",
      "2  inorganic pigments from titanium dioxide 90-10...  Titanium Dioxyde - 171\n",
      "3  hydantoin and its derivatives - preservatives ...                    None\n",
      "4  glycine used in cosmetics - glycine 25kg/bag. ...           Glycine - 640\n"
     ]
    }
   ],
   "source": [
    "df1.columns = df1.columns.str.strip()\n",
    "df2.columns = df2.columns.str.strip()\n",
    "\n",
    "# Remove any extra spaces in each cell of every column in df1 and df2\n",
    "for col in df1.columns:\n",
    "    df1[col] = df1[col].astype(str).str.strip()\n",
    "\n",
    "for col in df2.columns:\n",
    "    df2[col] = df2[col].astype(str).str.strip()\n",
    "\n",
    "# Define a function to find the longest match in 'Sản Phẩm Final' from df1 to 'Mô tả sản phẩm' in df2\n",
    "def find_longest_match(description, final_products):\n",
    "    longest_match = \"\"\n",
    "    for product in final_products:\n",
    "        if product.lower() in description.lower() and len(product) > len(longest_match):\n",
    "            longest_match = product\n",
    "    return longest_match\n",
    "\n",
    "# Create a list of final products and their corresponding 'Phụ gia sử dụng' from df1\n",
    "final_products = df1[['Sản Phẩm Final', 'Phụ gia sử dụng']].dropna().drop_duplicates()\n",
    "\n",
    "# Define a function to get the 'Phụ gia sử dụng' based on the longest match in 'Mô tả sản phẩm'\n",
    "def get_classification_value(description):\n",
    "    match = find_longest_match(description, final_products['Sản Phẩm Final'])\n",
    "    if match:\n",
    "        # Get the corresponding 'Phụ gia sử dụng' for the matched product\n",
    "        return final_products.loc[final_products['Sản Phẩm Final'] == match, 'Phụ gia sử dụng'].values[0]\n",
    "    return None\n",
    "\n",
    "# Create a new column 'code classification 2' in df2 based on the match found in 'Mô tả sản phẩm'\n",
    "df2['code classification 2'] = df2['Mô tả sản phẩm'].apply(get_classification_value)\n",
    "\n",
    "# Display result\n",
    "print(df2[['Mô tả sản phẩm', 'code classification 2']].head())\n",
    "\n",
    "# Save the result to a new Excel file"
   ]
  },
  {
   "cell_type": "code",
   "execution_count": 16,
   "metadata": {},
   "outputs": [],
   "source": [
    "df2.to_excel(\"../Data/Fix to TP/Fix cho chi loan/dataout/efg.xlsx\", index=False)"
   ]
  }
 ],
 "metadata": {
  "kernelspec": {
   "display_name": "Python 3",
   "language": "python",
   "name": "python3"
  },
  "language_info": {
   "codemirror_mode": {
    "name": "ipython",
    "version": 3
   },
   "file_extension": ".py",
   "mimetype": "text/x-python",
   "name": "python",
   "nbconvert_exporter": "python",
   "pygments_lexer": "ipython3",
   "version": "3.12.4"
  }
 },
 "nbformat": 4,
 "nbformat_minor": 2
}
