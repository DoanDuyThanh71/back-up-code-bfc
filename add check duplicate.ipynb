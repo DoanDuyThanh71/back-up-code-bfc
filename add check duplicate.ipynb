{
 "cells": [
  {
   "cell_type": "code",
   "execution_count": null,
   "metadata": {},
   "outputs": [],
   "source": []
  },
  {
   "cell_type": "code",
   "execution_count": 5,
   "metadata": {},
   "outputs": [
    {
     "name": "stdout",
     "output_type": "stream",
     "text": [
      "(8883, 34)\n",
      "Index(['Day', 'Month', 'Year', 'Mã tờ khai', 'Công ty nhập',\n",
      "       'Công ty nhập gộp', 'Công ty nhập (TA)', 'Địa chỉ', 'Mã số thuế',\n",
      "       'Nhà cung cấp', 'Địa chỉ (ncc)', 'Quốc gia xuất xứ', 'Hscode',\n",
      "       'Mô tả sản phẩm', 'Thương hiệu', 'Hợp lệ', 'updated Số lượng',\n",
      "       'updated Đơn vị', 'Số lượng', 'Đơn vị', 'Khối lượng', 'Thành tiền',\n",
      "       'Tiền tệ', 'Updated Đơn giá', 'Đơn giá', 'Tỷ giá',\n",
      "       'Điều kiện giao hàng', 'Cảng xuất', 'Cảng nhập', 'Phân loại thị trường',\n",
      "       'Phân loại công ty nhập', 'is duplicate', 'Sản phẩm', 'Hợp Lệ'],\n",
      "      dtype='object')\n"
     ]
    }
   ],
   "source": [
    "import pandas as pd\n",
    "df = pd.read_excel(\"../Data/Fix to TP/Fix cho chi loan/dataout/Hết cứu output.xlsx\")\n",
    "print(df.shape)\n",
    "print(df.columns)"
   ]
  },
  {
   "cell_type": "code",
   "execution_count": 8,
   "metadata": {},
   "outputs": [
    {
     "name": "stdout",
     "output_type": "stream",
     "text": [
      "check_duplicate\n",
      "0    8883\n",
      "Name: count, dtype: int64\n"
     ]
    }
   ],
   "source": [
    "# thêm cột check duplicate data dựa trên 11 số đầu mã tờ khai, công ty nhập, mô tả và thành tiền, nếu duplicate thì đánh dấu các bản ghi phía sau = 0 \n",
    "df['check_duplicate'] = df['Mã tờ khai'].astype(str).str[:11] + df['Công ty nhập'] + df['Mô tả sản phẩm'] + df['Thành tiền'].astype(str)\n",
    "df['check_duplicate'] = df['check_duplicate'].duplicated(keep='first')\n",
    "df['check_duplicate'] = df['check_duplicate'].astype(int)\n",
    "print(df['check_duplicate'].value_counts())\n"
   ]
  }
 ],
 "metadata": {
  "kernelspec": {
   "display_name": "Python 3",
   "language": "python",
   "name": "python3"
  },
  "language_info": {
   "codemirror_mode": {
    "name": "ipython",
    "version": 3
   },
   "file_extension": ".py",
   "mimetype": "text/x-python",
   "name": "python",
   "nbconvert_exporter": "python",
   "pygments_lexer": "ipython3",
   "version": "3.12.4"
  }
 },
 "nbformat": 4,
 "nbformat_minor": 2
}
