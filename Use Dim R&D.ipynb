{
 "cells": [
  {
   "cell_type": "code",
   "execution_count": 12,
   "metadata": {},
   "outputs": [],
   "source": [
    "import pandas as pd\n",
    "\n",
    "df1 = pd.read_excel(\"../Data/data final/Data Code Out/Danh sach 7 doi thu.xlsx\")\n",
    "df2 = pd.read_excel(\"../Data/Data for fill data/dim R And D .xlsx\")"
   ]
  },
  {
   "cell_type": "code",
   "execution_count": 13,
   "metadata": {},
   "outputs": [
    {
     "name": "stdout",
     "output_type": "stream",
     "text": [
      "Index(['Name', 'Tên tham khảo 1', 'Tên tham khảo 2', 'Tên tham khảo 3',\n",
      "       'Tên tham khảo 4', 'Tên tham khảo 5', 'Tên tham khảo 6',\n",
      "       'Tên tham khảo 7', 'Tên tham khảo 8', 'Tên tham khảo 9',\n",
      "       'Tên tham khảo 10', 'Tên tham khảo 11', 'Class'],\n",
      "      dtype='object')\n",
      "(783, 13)\n"
     ]
    }
   ],
   "source": [
    "print(df2.columns)\n",
    "print(df2.shape)"
   ]
  },
  {
   "cell_type": "code",
   "execution_count": 14,
   "metadata": {},
   "outputs": [],
   "source": [
    "#xóa tất cả các ô chỉ chứa dấu space\n",
    "df2 = df2.replace(r'^\\s*$', '', regex=True)\n"
   ]
  },
  {
   "cell_type": "code",
   "execution_count": 15,
   "metadata": {},
   "outputs": [
    {
     "name": "stderr",
     "output_type": "stream",
     "text": [
      "C:\\Users\\Doan Duy Thanh\\AppData\\Local\\Temp\\ipykernel_1644\\3545788793.py:9: FutureWarning: DataFrame.applymap has been deprecated. Use DataFrame.map instead.\n",
      "  df2 = df2.applymap(lambda x: x.lower() if isinstance(x, str) else x)\n"
     ]
    },
    {
     "name": "stdout",
     "output_type": "stream",
     "text": [
      "                                         Mô tả sản phẩm         Class  \\\n",
      "0     food additive - dl-malic acid, powder form, 30...  vtm + khoáng   \n",
      "1     food ingredients vital wheat gluten (wheat glu...   nguyên liệu   \n",
      "2     food additive citric acid anhydrous (25kg/bag)...  vtm + khoáng   \n",
      "3     food additive citric acid anhydrous (25kg/bag)...  vtm + khoáng   \n",
      "4     food additive: monosodium glutamate (msg) - ms...  vtm + khoáng   \n",
      "...                                                 ...           ...   \n",
      "5056  food additive: acesulfame k (used in food), 25...       phụ gia   \n",
      "5057  food additive: ethyl maltol (used in food), 25...          <NA>   \n",
      "5058  food additive:carrageenan blk1120 (for food us...  vtm + khoáng   \n",
      "5059  food additives: beef flavor e2012 (used in foo...    hương liệu   \n",
      "5060  food additives: meat flavor vm-6 (used in food...  vtm + khoáng   \n",
      "\n",
      "      Độ dài tham khảo khớp         value  \n",
      "0                         2            ca  \n",
      "1                         6        gluten  \n",
      "2                         2            ca  \n",
      "3                         2            ca  \n",
      "4                         2            ca  \n",
      "...                     ...           ...  \n",
      "5056                     12  acesulfame k  \n",
      "5057                      0          <NA>  \n",
      "5058                      2            ca  \n",
      "5059                      8      hương bò  \n",
      "5060                      2            ca  \n",
      "\n",
      "[5061 rows x 4 columns]\n"
     ]
    }
   ],
   "source": [
    "import pandas as pd\n",
    "\n",
    "# Giả sử df1 và df2 đã được khởi tạo\n",
    "# df1 chứa cột 'Mô tả sản phẩm'\n",
    "# df2 chứa các cột tham khảo và cột 'Class'\n",
    "\n",
    "# Chuyển tất cả dữ liệu thành chữ thường để so sánh không phân biệt hoa thường\n",
    "df1['Mô tả sản phẩm'] = df1['Mô tả sản phẩm'].str.lower()\n",
    "df2 = df2.applymap(lambda x: x.lower() if isinstance(x, str) else x)\n",
    "\n",
    "# Tạo các cột 'Class', 'Độ dài tham khảo khớp' và 'value' trong df1\n",
    "df1['Class'] = pd.NA\n",
    "df1['Độ dài tham khảo khớp'] = 0\n",
    "df1['value'] = pd.NA\n",
    "\n",
    "# Duyệt qua từng hàng của df2\n",
    "for _, row in df2.iterrows():\n",
    "    class_value = row['Class']  # Lấy giá trị của cột 'Class' trong df2\n",
    "    \n",
    "    # Duyệt qua các cột tham khảo trong df2\n",
    "    for col in df2.columns:\n",
    "        if col == 'Class':  # Bỏ qua cột 'Class'\n",
    "            continue\n",
    "        \n",
    "        ref_value = row[col]  # Lấy giá trị tham khảo\n",
    "        if pd.notna(ref_value):  # Bỏ qua giá trị NaN\n",
    "            # Kiểm tra xem giá trị tham khảo có xuất hiện trong 'Mô tả sản phẩm' không\n",
    "            df1 = df1.apply(\n",
    "                lambda x: pd.Series({\n",
    "                    'Mô tả sản phẩm': x['Mô tả sản phẩm'],\n",
    "                    'Class': class_value if ref_value in x['Mô tả sản phẩm'] and len(ref_value) > x['Độ dài tham khảo khớp'] else x['Class'],\n",
    "                    'Độ dài tham khảo khớp': len(ref_value) if ref_value in x['Mô tả sản phẩm'] and len(ref_value) > x['Độ dài tham khảo khớp'] else x['Độ dài tham khảo khớp'],\n",
    "                    'value': ref_value if ref_value in x['Mô tả sản phẩm'] and len(ref_value) > x['Độ dài tham khảo khớp'] else x['value']\n",
    "                }),\n",
    "                axis=1\n",
    "            )\n",
    "\n",
    "# Hiển thị kết quả\n",
    "print(df1)\n"
   ]
  },
  {
   "cell_type": "code",
   "execution_count": 1,
   "metadata": {},
   "outputs": [
    {
     "ename": "NameError",
     "evalue": "name 'df1' is not defined",
     "output_type": "error",
     "traceback": [
      "\u001b[1;31m---------------------------------------------------------------------------\u001b[0m",
      "\u001b[1;31mNameError\u001b[0m                                 Traceback (most recent call last)",
      "Cell \u001b[1;32mIn[1], line 1\u001b[0m\n\u001b[1;32m----> 1\u001b[0m count_non_none \u001b[38;5;241m=\u001b[39m \u001b[43mdf1\u001b[49m[\u001b[38;5;124m'\u001b[39m\u001b[38;5;124mClass\u001b[39m\u001b[38;5;124m'\u001b[39m]\u001b[38;5;241m.\u001b[39mnotna()\u001b[38;5;241m.\u001b[39msum()\n\u001b[0;32m      2\u001b[0m \u001b[38;5;28mprint\u001b[39m(\u001b[38;5;124mf\u001b[39m\u001b[38;5;124m\"\u001b[39m\u001b[38;5;124mSố bản ghi khác None ở cột \u001b[39m\u001b[38;5;124m'\u001b[39m\u001b[38;5;124mClass\u001b[39m\u001b[38;5;124m'\u001b[39m\u001b[38;5;124m: \u001b[39m\u001b[38;5;132;01m{\u001b[39;00mcount_non_none\u001b[38;5;132;01m}\u001b[39;00m\u001b[38;5;124m\"\u001b[39m)\n\u001b[0;32m      3\u001b[0m df1\u001b[38;5;241m.\u001b[39mto_excel(\u001b[38;5;124m\"\u001b[39m\u001b[38;5;124m../Data/data final/Data Code Out/list 7 company enemies did fill by code dim 2 .xlsx\u001b[39m\u001b[38;5;124m\"\u001b[39m, index\u001b[38;5;241m=\u001b[39m\u001b[38;5;28;01mFalse\u001b[39;00m)\n",
      "\u001b[1;31mNameError\u001b[0m: name 'df1' is not defined"
     ]
    }
   ],
   "source": [
    "count_non_none = df1['Class'].notna().sum()\n",
    "print(f\"Số bản ghi khác None ở cột 'Class': {count_non_none}\")\n",
    "df1.to_excel(\"../Data/data final/Data Code Out/list 7 company enemies did fill by code dim 2 .xlsx\", index=False)"
   ]
  }
 ],
 "metadata": {
  "kernelspec": {
   "display_name": "Python 3",
   "language": "python",
   "name": "python3"
  },
  "language_info": {
   "codemirror_mode": {
    "name": "ipython",
    "version": 3
   },
   "file_extension": ".py",
   "mimetype": "text/x-python",
   "name": "python",
   "nbconvert_exporter": "python",
   "pygments_lexer": "ipython3",
   "version": "3.12.4"
  }
 },
 "nbformat": 4,
 "nbformat_minor": 2
}
